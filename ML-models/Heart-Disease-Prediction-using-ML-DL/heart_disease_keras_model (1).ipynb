{
  "nbformat": 4,
  "nbformat_minor": 0,
  "metadata": {
    "colab": {
      "name": "heart-disease-keras-model.ipynb",
      "provenance": []
    },
    "kernelspec": {
      "name": "python3",
      "display_name": "Python 3"
    }
  },
  "cells": [
    {
      "cell_type": "code",
      "metadata": {
        "id": "dbwEtgWsxzNX"
      },
      "source": [
        "import sklearn\n",
        "import numpy as np\n",
        "import pandas as pd\n",
        "import plotly as plot\n",
        "import plotly.express as px\n",
        "import plotly.graph_objs as go\n",
        "\n",
        "import cufflinks as cf\n",
        "import matplotlib.pyplot as plt\n",
        "import seaborn as sns\n",
        "import os\n",
        "from sklearn.metrics import accuracy_score,mean_squared_error\n",
        "import plotly.offline as pyo\n",
        "from plotly.offline import init_notebook_mode,plot,iplot"
      ],
      "execution_count": 1,
      "outputs": []
    },
    {
      "cell_type": "code",
      "metadata": {
        "id": "LABA3xrb0LsC",
        "outputId": "f6e2124f-1110-48a0-adee-55a6cb4e4f45",
        "colab": {
          "base_uri": "https://localhost:8080/",
          "height": 17
        }
      },
      "source": [
        "pyo.init_notebook_mode(connected=True)\n",
        "cf.go_offline()"
      ],
      "execution_count": 2,
      "outputs": [
        {
          "output_type": "display_data",
          "data": {
            "text/html": [
              "        <script type=\"text/javascript\">\n",
              "        window.PlotlyConfig = {MathJaxConfig: 'local'};\n",
              "        if (window.MathJax) {MathJax.Hub.Config({SVG: {font: \"STIX-Web\"}});}\n",
              "        if (typeof require !== 'undefined') {\n",
              "        require.undef(\"plotly\");\n",
              "        requirejs.config({\n",
              "            paths: {\n",
              "                'plotly': ['https://cdn.plot.ly/plotly-latest.min']\n",
              "            }\n",
              "        });\n",
              "        require(['plotly'], function(Plotly) {\n",
              "            window._Plotly = Plotly;\n",
              "        });\n",
              "        }\n",
              "        </script>\n",
              "        "
            ]
          },
          "metadata": {
            "tags": []
          }
        },
        {
          "output_type": "display_data",
          "data": {
            "text/html": [
              "        <script type=\"text/javascript\">\n",
              "        window.PlotlyConfig = {MathJaxConfig: 'local'};\n",
              "        if (window.MathJax) {MathJax.Hub.Config({SVG: {font: \"STIX-Web\"}});}\n",
              "        if (typeof require !== 'undefined') {\n",
              "        require.undef(\"plotly\");\n",
              "        requirejs.config({\n",
              "            paths: {\n",
              "                'plotly': ['https://cdn.plot.ly/plotly-latest.min']\n",
              "            }\n",
              "        });\n",
              "        require(['plotly'], function(Plotly) {\n",
              "            window._Plotly = Plotly;\n",
              "        });\n",
              "        }\n",
              "        </script>\n",
              "        "
            ]
          },
          "metadata": {
            "tags": []
          }
        }
      ]
    },
    {
      "cell_type": "code",
      "metadata": {
        "id": "qOMn5WZa0gKt"
      },
      "source": [
        "heart=pd.read_csv('heart.csv')"
      ],
      "execution_count": 3,
      "outputs": []
    },
    {
      "cell_type": "code",
      "metadata": {
        "id": "8B_Jy4pD0jok",
        "outputId": "79d4ce95-babc-4526-db37-e9bdf8b5043c",
        "colab": {
          "base_uri": "https://localhost:8080/",
          "height": 402
        }
      },
      "source": [
        "heart"
      ],
      "execution_count": 4,
      "outputs": [
        {
          "output_type": "execute_result",
          "data": {
            "text/html": [
              "<div>\n",
              "<style scoped>\n",
              "    .dataframe tbody tr th:only-of-type {\n",
              "        vertical-align: middle;\n",
              "    }\n",
              "\n",
              "    .dataframe tbody tr th {\n",
              "        vertical-align: top;\n",
              "    }\n",
              "\n",
              "    .dataframe thead th {\n",
              "        text-align: right;\n",
              "    }\n",
              "</style>\n",
              "<table border=\"1\" class=\"dataframe\">\n",
              "  <thead>\n",
              "    <tr style=\"text-align: right;\">\n",
              "      <th></th>\n",
              "      <th>age</th>\n",
              "      <th>sex</th>\n",
              "      <th>cp</th>\n",
              "      <th>trestbps</th>\n",
              "      <th>chol</th>\n",
              "      <th>fbs</th>\n",
              "      <th>restecg</th>\n",
              "      <th>thalach</th>\n",
              "      <th>exang</th>\n",
              "      <th>oldpeak</th>\n",
              "      <th>slope</th>\n",
              "      <th>ca</th>\n",
              "      <th>thal</th>\n",
              "      <th>target</th>\n",
              "    </tr>\n",
              "  </thead>\n",
              "  <tbody>\n",
              "    <tr>\n",
              "      <th>0</th>\n",
              "      <td>63</td>\n",
              "      <td>1</td>\n",
              "      <td>3</td>\n",
              "      <td>145</td>\n",
              "      <td>233</td>\n",
              "      <td>1</td>\n",
              "      <td>0</td>\n",
              "      <td>150</td>\n",
              "      <td>0</td>\n",
              "      <td>2.3</td>\n",
              "      <td>0</td>\n",
              "      <td>0</td>\n",
              "      <td>1</td>\n",
              "      <td>1</td>\n",
              "    </tr>\n",
              "    <tr>\n",
              "      <th>1</th>\n",
              "      <td>37</td>\n",
              "      <td>1</td>\n",
              "      <td>2</td>\n",
              "      <td>130</td>\n",
              "      <td>250</td>\n",
              "      <td>0</td>\n",
              "      <td>1</td>\n",
              "      <td>187</td>\n",
              "      <td>0</td>\n",
              "      <td>3.5</td>\n",
              "      <td>0</td>\n",
              "      <td>0</td>\n",
              "      <td>2</td>\n",
              "      <td>1</td>\n",
              "    </tr>\n",
              "    <tr>\n",
              "      <th>2</th>\n",
              "      <td>41</td>\n",
              "      <td>0</td>\n",
              "      <td>1</td>\n",
              "      <td>130</td>\n",
              "      <td>204</td>\n",
              "      <td>0</td>\n",
              "      <td>0</td>\n",
              "      <td>172</td>\n",
              "      <td>0</td>\n",
              "      <td>1.4</td>\n",
              "      <td>2</td>\n",
              "      <td>0</td>\n",
              "      <td>2</td>\n",
              "      <td>1</td>\n",
              "    </tr>\n",
              "    <tr>\n",
              "      <th>3</th>\n",
              "      <td>56</td>\n",
              "      <td>1</td>\n",
              "      <td>1</td>\n",
              "      <td>120</td>\n",
              "      <td>236</td>\n",
              "      <td>0</td>\n",
              "      <td>1</td>\n",
              "      <td>178</td>\n",
              "      <td>0</td>\n",
              "      <td>0.8</td>\n",
              "      <td>2</td>\n",
              "      <td>0</td>\n",
              "      <td>2</td>\n",
              "      <td>1</td>\n",
              "    </tr>\n",
              "    <tr>\n",
              "      <th>4</th>\n",
              "      <td>57</td>\n",
              "      <td>0</td>\n",
              "      <td>0</td>\n",
              "      <td>120</td>\n",
              "      <td>354</td>\n",
              "      <td>0</td>\n",
              "      <td>1</td>\n",
              "      <td>163</td>\n",
              "      <td>1</td>\n",
              "      <td>0.6</td>\n",
              "      <td>2</td>\n",
              "      <td>0</td>\n",
              "      <td>2</td>\n",
              "      <td>1</td>\n",
              "    </tr>\n",
              "    <tr>\n",
              "      <th>...</th>\n",
              "      <td>...</td>\n",
              "      <td>...</td>\n",
              "      <td>...</td>\n",
              "      <td>...</td>\n",
              "      <td>...</td>\n",
              "      <td>...</td>\n",
              "      <td>...</td>\n",
              "      <td>...</td>\n",
              "      <td>...</td>\n",
              "      <td>...</td>\n",
              "      <td>...</td>\n",
              "      <td>...</td>\n",
              "      <td>...</td>\n",
              "      <td>...</td>\n",
              "    </tr>\n",
              "    <tr>\n",
              "      <th>298</th>\n",
              "      <td>57</td>\n",
              "      <td>0</td>\n",
              "      <td>0</td>\n",
              "      <td>140</td>\n",
              "      <td>241</td>\n",
              "      <td>0</td>\n",
              "      <td>1</td>\n",
              "      <td>123</td>\n",
              "      <td>1</td>\n",
              "      <td>0.2</td>\n",
              "      <td>1</td>\n",
              "      <td>0</td>\n",
              "      <td>3</td>\n",
              "      <td>0</td>\n",
              "    </tr>\n",
              "    <tr>\n",
              "      <th>299</th>\n",
              "      <td>45</td>\n",
              "      <td>1</td>\n",
              "      <td>3</td>\n",
              "      <td>110</td>\n",
              "      <td>264</td>\n",
              "      <td>0</td>\n",
              "      <td>1</td>\n",
              "      <td>132</td>\n",
              "      <td>0</td>\n",
              "      <td>1.2</td>\n",
              "      <td>1</td>\n",
              "      <td>0</td>\n",
              "      <td>3</td>\n",
              "      <td>0</td>\n",
              "    </tr>\n",
              "    <tr>\n",
              "      <th>300</th>\n",
              "      <td>68</td>\n",
              "      <td>1</td>\n",
              "      <td>0</td>\n",
              "      <td>144</td>\n",
              "      <td>193</td>\n",
              "      <td>1</td>\n",
              "      <td>1</td>\n",
              "      <td>141</td>\n",
              "      <td>0</td>\n",
              "      <td>3.4</td>\n",
              "      <td>1</td>\n",
              "      <td>2</td>\n",
              "      <td>3</td>\n",
              "      <td>0</td>\n",
              "    </tr>\n",
              "    <tr>\n",
              "      <th>301</th>\n",
              "      <td>57</td>\n",
              "      <td>1</td>\n",
              "      <td>0</td>\n",
              "      <td>130</td>\n",
              "      <td>131</td>\n",
              "      <td>0</td>\n",
              "      <td>1</td>\n",
              "      <td>115</td>\n",
              "      <td>1</td>\n",
              "      <td>1.2</td>\n",
              "      <td>1</td>\n",
              "      <td>1</td>\n",
              "      <td>3</td>\n",
              "      <td>0</td>\n",
              "    </tr>\n",
              "    <tr>\n",
              "      <th>302</th>\n",
              "      <td>57</td>\n",
              "      <td>0</td>\n",
              "      <td>1</td>\n",
              "      <td>130</td>\n",
              "      <td>236</td>\n",
              "      <td>0</td>\n",
              "      <td>0</td>\n",
              "      <td>174</td>\n",
              "      <td>0</td>\n",
              "      <td>0.0</td>\n",
              "      <td>1</td>\n",
              "      <td>1</td>\n",
              "      <td>2</td>\n",
              "      <td>0</td>\n",
              "    </tr>\n",
              "  </tbody>\n",
              "</table>\n",
              "<p>303 rows × 14 columns</p>\n",
              "</div>"
            ],
            "text/plain": [
              "     age  sex  cp  trestbps  chol  fbs  ...  exang  oldpeak  slope  ca  thal  target\n",
              "0     63    1   3       145   233    1  ...      0      2.3      0   0     1       1\n",
              "1     37    1   2       130   250    0  ...      0      3.5      0   0     2       1\n",
              "2     41    0   1       130   204    0  ...      0      1.4      2   0     2       1\n",
              "3     56    1   1       120   236    0  ...      0      0.8      2   0     2       1\n",
              "4     57    0   0       120   354    0  ...      1      0.6      2   0     2       1\n",
              "..   ...  ...  ..       ...   ...  ...  ...    ...      ...    ...  ..   ...     ...\n",
              "298   57    0   0       140   241    0  ...      1      0.2      1   0     3       0\n",
              "299   45    1   3       110   264    0  ...      0      1.2      1   0     3       0\n",
              "300   68    1   0       144   193    1  ...      0      3.4      1   2     3       0\n",
              "301   57    1   0       130   131    0  ...      1      1.2      1   1     3       0\n",
              "302   57    0   1       130   236    0  ...      0      0.0      1   1     2       0\n",
              "\n",
              "[303 rows x 14 columns]"
            ]
          },
          "metadata": {
            "tags": []
          },
          "execution_count": 4
        }
      ]
    },
    {
      "cell_type": "code",
      "metadata": {
        "id": "Bw-P8tNdCvAL",
        "outputId": "77c47f81-77db-4873-c937-a2bf08589c97",
        "colab": {
          "base_uri": "https://localhost:8080/"
        }
      },
      "source": [
        "info = [\"age\",\"1: male, 0: female\",\"chest pain type, 1: typical angina, 2: atypical angina, 3: non-anginal pain, 4: asymptomatic\",\"resting blood pressure\",\" serum cholestoral in mg/dl\",\"fasting blood sugar > 120 mg/dl\",\"resting electrocardiographic results (values 0,1,2)\",\" maximum heart rate achieved\",\"exercise induced angina\",\"oldpeak = ST depression induced by exercise relative to rest\",\"the slope of the peak exercise ST segment\",\"number of major vessels (0-3) colored by flourosopy\",\"thal: 3 = normal; 6 = fixed defect; 7 = reversable defect\"]\n",
        "\n",
        "\n",
        "\n",
        "for i in range(len(info)):\n",
        "    print(heart.columns[i]+\":\\t\\t\\t\"+info[i])"
      ],
      "execution_count": 5,
      "outputs": [
        {
          "output_type": "stream",
          "text": [
            "age:\t\t\tage\n",
            "sex:\t\t\t1: male, 0: female\n",
            "cp:\t\t\tchest pain type, 1: typical angina, 2: atypical angina, 3: non-anginal pain, 4: asymptomatic\n",
            "trestbps:\t\t\tresting blood pressure\n",
            "chol:\t\t\t serum cholestoral in mg/dl\n",
            "fbs:\t\t\tfasting blood sugar > 120 mg/dl\n",
            "restecg:\t\t\tresting electrocardiographic results (values 0,1,2)\n",
            "thalach:\t\t\t maximum heart rate achieved\n",
            "exang:\t\t\texercise induced angina\n",
            "oldpeak:\t\t\toldpeak = ST depression induced by exercise relative to rest\n",
            "slope:\t\t\tthe slope of the peak exercise ST segment\n",
            "ca:\t\t\tnumber of major vessels (0-3) colored by flourosopy\n",
            "thal:\t\t\tthal: 3 = normal; 6 = fixed defect; 7 = reversable defect\n"
          ],
          "name": "stdout"
        }
      ]
    },
    {
      "cell_type": "code",
      "metadata": {
        "id": "Rxfv9DbF6BHQ"
      },
      "source": [
        "X = heart.iloc[:,0:13]   \n",
        "y = heart.iloc[:,13]"
      ],
      "execution_count": 6,
      "outputs": []
    },
    {
      "cell_type": "code",
      "metadata": {
        "id": "akUZDOseEVaA",
        "outputId": "c055a71a-1144-4871-906e-e755bd27ca37",
        "colab": {
          "base_uri": "https://localhost:8080/",
          "height": 402
        }
      },
      "source": [
        "X=X.drop(['fbs','restecg','oldpeak','thal','slope'],axis=1)\n",
        "X"
      ],
      "execution_count": 7,
      "outputs": [
        {
          "output_type": "execute_result",
          "data": {
            "text/html": [
              "<div>\n",
              "<style scoped>\n",
              "    .dataframe tbody tr th:only-of-type {\n",
              "        vertical-align: middle;\n",
              "    }\n",
              "\n",
              "    .dataframe tbody tr th {\n",
              "        vertical-align: top;\n",
              "    }\n",
              "\n",
              "    .dataframe thead th {\n",
              "        text-align: right;\n",
              "    }\n",
              "</style>\n",
              "<table border=\"1\" class=\"dataframe\">\n",
              "  <thead>\n",
              "    <tr style=\"text-align: right;\">\n",
              "      <th></th>\n",
              "      <th>age</th>\n",
              "      <th>sex</th>\n",
              "      <th>cp</th>\n",
              "      <th>trestbps</th>\n",
              "      <th>chol</th>\n",
              "      <th>thalach</th>\n",
              "      <th>exang</th>\n",
              "      <th>ca</th>\n",
              "    </tr>\n",
              "  </thead>\n",
              "  <tbody>\n",
              "    <tr>\n",
              "      <th>0</th>\n",
              "      <td>63</td>\n",
              "      <td>1</td>\n",
              "      <td>3</td>\n",
              "      <td>145</td>\n",
              "      <td>233</td>\n",
              "      <td>150</td>\n",
              "      <td>0</td>\n",
              "      <td>0</td>\n",
              "    </tr>\n",
              "    <tr>\n",
              "      <th>1</th>\n",
              "      <td>37</td>\n",
              "      <td>1</td>\n",
              "      <td>2</td>\n",
              "      <td>130</td>\n",
              "      <td>250</td>\n",
              "      <td>187</td>\n",
              "      <td>0</td>\n",
              "      <td>0</td>\n",
              "    </tr>\n",
              "    <tr>\n",
              "      <th>2</th>\n",
              "      <td>41</td>\n",
              "      <td>0</td>\n",
              "      <td>1</td>\n",
              "      <td>130</td>\n",
              "      <td>204</td>\n",
              "      <td>172</td>\n",
              "      <td>0</td>\n",
              "      <td>0</td>\n",
              "    </tr>\n",
              "    <tr>\n",
              "      <th>3</th>\n",
              "      <td>56</td>\n",
              "      <td>1</td>\n",
              "      <td>1</td>\n",
              "      <td>120</td>\n",
              "      <td>236</td>\n",
              "      <td>178</td>\n",
              "      <td>0</td>\n",
              "      <td>0</td>\n",
              "    </tr>\n",
              "    <tr>\n",
              "      <th>4</th>\n",
              "      <td>57</td>\n",
              "      <td>0</td>\n",
              "      <td>0</td>\n",
              "      <td>120</td>\n",
              "      <td>354</td>\n",
              "      <td>163</td>\n",
              "      <td>1</td>\n",
              "      <td>0</td>\n",
              "    </tr>\n",
              "    <tr>\n",
              "      <th>...</th>\n",
              "      <td>...</td>\n",
              "      <td>...</td>\n",
              "      <td>...</td>\n",
              "      <td>...</td>\n",
              "      <td>...</td>\n",
              "      <td>...</td>\n",
              "      <td>...</td>\n",
              "      <td>...</td>\n",
              "    </tr>\n",
              "    <tr>\n",
              "      <th>298</th>\n",
              "      <td>57</td>\n",
              "      <td>0</td>\n",
              "      <td>0</td>\n",
              "      <td>140</td>\n",
              "      <td>241</td>\n",
              "      <td>123</td>\n",
              "      <td>1</td>\n",
              "      <td>0</td>\n",
              "    </tr>\n",
              "    <tr>\n",
              "      <th>299</th>\n",
              "      <td>45</td>\n",
              "      <td>1</td>\n",
              "      <td>3</td>\n",
              "      <td>110</td>\n",
              "      <td>264</td>\n",
              "      <td>132</td>\n",
              "      <td>0</td>\n",
              "      <td>0</td>\n",
              "    </tr>\n",
              "    <tr>\n",
              "      <th>300</th>\n",
              "      <td>68</td>\n",
              "      <td>1</td>\n",
              "      <td>0</td>\n",
              "      <td>144</td>\n",
              "      <td>193</td>\n",
              "      <td>141</td>\n",
              "      <td>0</td>\n",
              "      <td>2</td>\n",
              "    </tr>\n",
              "    <tr>\n",
              "      <th>301</th>\n",
              "      <td>57</td>\n",
              "      <td>1</td>\n",
              "      <td>0</td>\n",
              "      <td>130</td>\n",
              "      <td>131</td>\n",
              "      <td>115</td>\n",
              "      <td>1</td>\n",
              "      <td>1</td>\n",
              "    </tr>\n",
              "    <tr>\n",
              "      <th>302</th>\n",
              "      <td>57</td>\n",
              "      <td>0</td>\n",
              "      <td>1</td>\n",
              "      <td>130</td>\n",
              "      <td>236</td>\n",
              "      <td>174</td>\n",
              "      <td>0</td>\n",
              "      <td>1</td>\n",
              "    </tr>\n",
              "  </tbody>\n",
              "</table>\n",
              "<p>303 rows × 8 columns</p>\n",
              "</div>"
            ],
            "text/plain": [
              "     age  sex  cp  trestbps  chol  thalach  exang  ca\n",
              "0     63    1   3       145   233      150      0   0\n",
              "1     37    1   2       130   250      187      0   0\n",
              "2     41    0   1       130   204      172      0   0\n",
              "3     56    1   1       120   236      178      0   0\n",
              "4     57    0   0       120   354      163      1   0\n",
              "..   ...  ...  ..       ...   ...      ...    ...  ..\n",
              "298   57    0   0       140   241      123      1   0\n",
              "299   45    1   3       110   264      132      0   0\n",
              "300   68    1   0       144   193      141      0   2\n",
              "301   57    1   0       130   131      115      1   1\n",
              "302   57    0   1       130   236      174      0   1\n",
              "\n",
              "[303 rows x 8 columns]"
            ]
          },
          "metadata": {
            "tags": []
          },
          "execution_count": 7
        }
      ]
    },
    {
      "cell_type": "code",
      "metadata": {
        "id": "GIN_7HK06BgQ"
      },
      "source": [
        "from sklearn.model_selection import train_test_split\n",
        "from sklearn.preprocessing import StandardScaler"
      ],
      "execution_count": 8,
      "outputs": []
    },
    {
      "cell_type": "code",
      "metadata": {
        "id": "HnWGYgBwEu1Q"
      },
      "source": [
        "sc = StandardScaler()\n",
        "X = sc.fit_transform(X)"
      ],
      "execution_count": 9,
      "outputs": []
    },
    {
      "cell_type": "code",
      "metadata": {
        "id": "oimcpDI4EvHM"
      },
      "source": [
        ""
      ],
      "execution_count": null,
      "outputs": []
    },
    {
      "cell_type": "code",
      "metadata": {
        "id": "0ssiBs4CEmfR",
        "outputId": "74b95c95-7da5-44e7-bb83-20afb29264b5",
        "colab": {
          "base_uri": "https://localhost:8080/"
        }
      },
      "source": [
        "# from sklearn.model_selection import train_test_split\n",
        "X_train, X_test, y_train, y_test = train_test_split(X, y, test_size = 0.30, random_state = 5)\n",
        "print(X_train.shape)\n",
        "print(X_test.shape)\n",
        "print(y_train.shape)\n",
        "print(y_test.shape)"
      ],
      "execution_count": 10,
      "outputs": [
        {
          "output_type": "stream",
          "text": [
            "(212, 8)\n",
            "(91, 8)\n",
            "(212,)\n",
            "(91,)\n"
          ],
          "name": "stdout"
        }
      ]
    },
    {
      "cell_type": "code",
      "metadata": {
        "id": "GCvtHvX06B5-"
      },
      "source": [
        "from keras.models import Sequential\n",
        "from keras.layers import Dense\n",
        "model = Sequential()\n",
        "model.add(Dense(30, input_dim=8, activation='tanh'))\n",
        "model.add(Dense(20, activation='tanh'))\n",
        "model.add(Dense(1, activation='sigmoid'))"
      ],
      "execution_count": 11,
      "outputs": []
    },
    {
      "cell_type": "code",
      "metadata": {
        "id": "Wa4JJYIE6CUG",
        "outputId": "61ceb2ba-edae-447a-b134-c7136827e801",
        "colab": {
          "base_uri": "https://localhost:8080/"
        }
      },
      "source": [
        "model.compile(optimizer='adam',loss='binary_crossentropy',metrics=['accuracy'])\n",
        "model.fit(X_train, y_train, epochs=100, verbose=1)"
      ],
      "execution_count": 12,
      "outputs": [
        {
          "output_type": "stream",
          "text": [
            "Epoch 1/100\n",
            "7/7 [==============================] - 0s 2ms/step - loss: 0.6891 - accuracy: 0.5896\n",
            "Epoch 2/100\n",
            "7/7 [==============================] - 0s 1ms/step - loss: 0.6390 - accuracy: 0.6698\n",
            "Epoch 3/100\n",
            "7/7 [==============================] - 0s 1ms/step - loss: 0.5958 - accuracy: 0.7170\n",
            "Epoch 4/100\n",
            "7/7 [==============================] - 0s 2ms/step - loss: 0.5621 - accuracy: 0.7547\n",
            "Epoch 5/100\n",
            "7/7 [==============================] - 0s 1ms/step - loss: 0.5348 - accuracy: 0.7783\n",
            "Epoch 6/100\n",
            "7/7 [==============================] - 0s 2ms/step - loss: 0.5143 - accuracy: 0.7925\n",
            "Epoch 7/100\n",
            "7/7 [==============================] - 0s 1ms/step - loss: 0.4959 - accuracy: 0.7925\n",
            "Epoch 8/100\n",
            "7/7 [==============================] - 0s 2ms/step - loss: 0.4815 - accuracy: 0.7877\n",
            "Epoch 9/100\n",
            "7/7 [==============================] - 0s 2ms/step - loss: 0.4695 - accuracy: 0.7972\n",
            "Epoch 10/100\n",
            "7/7 [==============================] - 0s 1ms/step - loss: 0.4613 - accuracy: 0.7972\n",
            "Epoch 11/100\n",
            "7/7 [==============================] - 0s 2ms/step - loss: 0.4534 - accuracy: 0.7972\n",
            "Epoch 12/100\n",
            "7/7 [==============================] - 0s 2ms/step - loss: 0.4473 - accuracy: 0.7925\n",
            "Epoch 13/100\n",
            "7/7 [==============================] - 0s 2ms/step - loss: 0.4419 - accuracy: 0.7877\n",
            "Epoch 14/100\n",
            "7/7 [==============================] - 0s 2ms/step - loss: 0.4380 - accuracy: 0.7925\n",
            "Epoch 15/100\n",
            "7/7 [==============================] - 0s 1ms/step - loss: 0.4340 - accuracy: 0.7830\n",
            "Epoch 16/100\n",
            "7/7 [==============================] - 0s 1ms/step - loss: 0.4313 - accuracy: 0.7925\n",
            "Epoch 17/100\n",
            "7/7 [==============================] - 0s 1ms/step - loss: 0.4276 - accuracy: 0.7972\n",
            "Epoch 18/100\n",
            "7/7 [==============================] - 0s 2ms/step - loss: 0.4253 - accuracy: 0.7972\n",
            "Epoch 19/100\n",
            "7/7 [==============================] - 0s 2ms/step - loss: 0.4224 - accuracy: 0.7925\n",
            "Epoch 20/100\n",
            "7/7 [==============================] - 0s 2ms/step - loss: 0.4206 - accuracy: 0.8019\n",
            "Epoch 21/100\n",
            "7/7 [==============================] - 0s 2ms/step - loss: 0.4185 - accuracy: 0.8066\n",
            "Epoch 22/100\n",
            "7/7 [==============================] - 0s 2ms/step - loss: 0.4170 - accuracy: 0.8019\n",
            "Epoch 23/100\n",
            "7/7 [==============================] - 0s 2ms/step - loss: 0.4154 - accuracy: 0.8019\n",
            "Epoch 24/100\n",
            "7/7 [==============================] - 0s 2ms/step - loss: 0.4141 - accuracy: 0.8019\n",
            "Epoch 25/100\n",
            "7/7 [==============================] - 0s 2ms/step - loss: 0.4121 - accuracy: 0.8066\n",
            "Epoch 26/100\n",
            "7/7 [==============================] - 0s 2ms/step - loss: 0.4108 - accuracy: 0.8066\n",
            "Epoch 27/100\n",
            "7/7 [==============================] - 0s 2ms/step - loss: 0.4091 - accuracy: 0.8066\n",
            "Epoch 28/100\n",
            "7/7 [==============================] - 0s 2ms/step - loss: 0.4084 - accuracy: 0.8066\n",
            "Epoch 29/100\n",
            "7/7 [==============================] - 0s 2ms/step - loss: 0.4067 - accuracy: 0.8019\n",
            "Epoch 30/100\n",
            "7/7 [==============================] - 0s 2ms/step - loss: 0.4055 - accuracy: 0.8066\n",
            "Epoch 31/100\n",
            "7/7 [==============================] - 0s 2ms/step - loss: 0.4049 - accuracy: 0.8019\n",
            "Epoch 32/100\n",
            "7/7 [==============================] - 0s 2ms/step - loss: 0.4029 - accuracy: 0.8019\n",
            "Epoch 33/100\n",
            "7/7 [==============================] - 0s 2ms/step - loss: 0.4021 - accuracy: 0.8019\n",
            "Epoch 34/100\n",
            "7/7 [==============================] - 0s 2ms/step - loss: 0.4011 - accuracy: 0.8066\n",
            "Epoch 35/100\n",
            "7/7 [==============================] - 0s 2ms/step - loss: 0.3991 - accuracy: 0.8066\n",
            "Epoch 36/100\n",
            "7/7 [==============================] - 0s 2ms/step - loss: 0.3981 - accuracy: 0.8066\n",
            "Epoch 37/100\n",
            "7/7 [==============================] - 0s 2ms/step - loss: 0.3968 - accuracy: 0.8066\n",
            "Epoch 38/100\n",
            "7/7 [==============================] - 0s 2ms/step - loss: 0.3964 - accuracy: 0.8019\n",
            "Epoch 39/100\n",
            "7/7 [==============================] - 0s 2ms/step - loss: 0.3949 - accuracy: 0.8019\n",
            "Epoch 40/100\n",
            "7/7 [==============================] - 0s 2ms/step - loss: 0.3935 - accuracy: 0.8066\n",
            "Epoch 41/100\n",
            "7/7 [==============================] - 0s 2ms/step - loss: 0.3921 - accuracy: 0.8113\n",
            "Epoch 42/100\n",
            "7/7 [==============================] - 0s 2ms/step - loss: 0.3910 - accuracy: 0.8113\n",
            "Epoch 43/100\n",
            "7/7 [==============================] - 0s 2ms/step - loss: 0.3903 - accuracy: 0.8066\n",
            "Epoch 44/100\n",
            "7/7 [==============================] - 0s 2ms/step - loss: 0.3888 - accuracy: 0.8113\n",
            "Epoch 45/100\n",
            "7/7 [==============================] - 0s 2ms/step - loss: 0.3872 - accuracy: 0.8113\n",
            "Epoch 46/100\n",
            "7/7 [==============================] - 0s 2ms/step - loss: 0.3863 - accuracy: 0.8066\n",
            "Epoch 47/100\n",
            "7/7 [==============================] - 0s 3ms/step - loss: 0.3851 - accuracy: 0.8160\n",
            "Epoch 48/100\n",
            "7/7 [==============================] - 0s 2ms/step - loss: 0.3839 - accuracy: 0.8113\n",
            "Epoch 49/100\n",
            "7/7 [==============================] - 0s 2ms/step - loss: 0.3829 - accuracy: 0.8160\n",
            "Epoch 50/100\n",
            "7/7 [==============================] - 0s 2ms/step - loss: 0.3825 - accuracy: 0.8160\n",
            "Epoch 51/100\n",
            "7/7 [==============================] - 0s 2ms/step - loss: 0.3812 - accuracy: 0.8208\n",
            "Epoch 52/100\n",
            "7/7 [==============================] - 0s 2ms/step - loss: 0.3794 - accuracy: 0.8160\n",
            "Epoch 53/100\n",
            "7/7 [==============================] - 0s 2ms/step - loss: 0.3782 - accuracy: 0.8160\n",
            "Epoch 54/100\n",
            "7/7 [==============================] - 0s 2ms/step - loss: 0.3769 - accuracy: 0.8160\n",
            "Epoch 55/100\n",
            "7/7 [==============================] - 0s 2ms/step - loss: 0.3758 - accuracy: 0.8160\n",
            "Epoch 56/100\n",
            "7/7 [==============================] - 0s 2ms/step - loss: 0.3747 - accuracy: 0.8160\n",
            "Epoch 57/100\n",
            "7/7 [==============================] - 0s 2ms/step - loss: 0.3736 - accuracy: 0.8160\n",
            "Epoch 58/100\n",
            "7/7 [==============================] - 0s 2ms/step - loss: 0.3726 - accuracy: 0.8160\n",
            "Epoch 59/100\n",
            "7/7 [==============================] - 0s 2ms/step - loss: 0.3714 - accuracy: 0.8208\n",
            "Epoch 60/100\n",
            "7/7 [==============================] - 0s 2ms/step - loss: 0.3701 - accuracy: 0.8255\n",
            "Epoch 61/100\n",
            "7/7 [==============================] - 0s 2ms/step - loss: 0.3696 - accuracy: 0.8255\n",
            "Epoch 62/100\n",
            "7/7 [==============================] - 0s 2ms/step - loss: 0.3677 - accuracy: 0.8255\n",
            "Epoch 63/100\n",
            "7/7 [==============================] - 0s 2ms/step - loss: 0.3668 - accuracy: 0.8302\n",
            "Epoch 64/100\n",
            "7/7 [==============================] - 0s 2ms/step - loss: 0.3656 - accuracy: 0.8302\n",
            "Epoch 65/100\n",
            "7/7 [==============================] - 0s 2ms/step - loss: 0.3651 - accuracy: 0.8302\n",
            "Epoch 66/100\n",
            "7/7 [==============================] - 0s 2ms/step - loss: 0.3639 - accuracy: 0.8255\n",
            "Epoch 67/100\n",
            "7/7 [==============================] - 0s 2ms/step - loss: 0.3624 - accuracy: 0.8302\n",
            "Epoch 68/100\n",
            "7/7 [==============================] - 0s 3ms/step - loss: 0.3617 - accuracy: 0.8255\n",
            "Epoch 69/100\n",
            "7/7 [==============================] - 0s 2ms/step - loss: 0.3609 - accuracy: 0.8255\n",
            "Epoch 70/100\n",
            "7/7 [==============================] - 0s 2ms/step - loss: 0.3592 - accuracy: 0.8302\n",
            "Epoch 71/100\n",
            "7/7 [==============================] - 0s 2ms/step - loss: 0.3583 - accuracy: 0.8302\n",
            "Epoch 72/100\n",
            "7/7 [==============================] - 0s 2ms/step - loss: 0.3573 - accuracy: 0.8255\n",
            "Epoch 73/100\n",
            "7/7 [==============================] - 0s 2ms/step - loss: 0.3558 - accuracy: 0.8255\n",
            "Epoch 74/100\n",
            "7/7 [==============================] - 0s 2ms/step - loss: 0.3548 - accuracy: 0.8255\n",
            "Epoch 75/100\n",
            "7/7 [==============================] - 0s 2ms/step - loss: 0.3541 - accuracy: 0.8255\n",
            "Epoch 76/100\n",
            "7/7 [==============================] - 0s 2ms/step - loss: 0.3529 - accuracy: 0.8255\n",
            "Epoch 77/100\n",
            "7/7 [==============================] - 0s 2ms/step - loss: 0.3522 - accuracy: 0.8349\n",
            "Epoch 78/100\n",
            "7/7 [==============================] - 0s 2ms/step - loss: 0.3508 - accuracy: 0.8302\n",
            "Epoch 79/100\n",
            "7/7 [==============================] - 0s 2ms/step - loss: 0.3494 - accuracy: 0.8302\n",
            "Epoch 80/100\n",
            "7/7 [==============================] - 0s 2ms/step - loss: 0.3485 - accuracy: 0.8349\n",
            "Epoch 81/100\n",
            "7/7 [==============================] - 0s 2ms/step - loss: 0.3481 - accuracy: 0.8396\n",
            "Epoch 82/100\n",
            "7/7 [==============================] - 0s 2ms/step - loss: 0.3464 - accuracy: 0.8396\n",
            "Epoch 83/100\n",
            "7/7 [==============================] - 0s 2ms/step - loss: 0.3457 - accuracy: 0.8349\n",
            "Epoch 84/100\n",
            "7/7 [==============================] - 0s 2ms/step - loss: 0.3445 - accuracy: 0.8349\n",
            "Epoch 85/100\n",
            "7/7 [==============================] - 0s 2ms/step - loss: 0.3431 - accuracy: 0.8443\n",
            "Epoch 86/100\n",
            "7/7 [==============================] - 0s 2ms/step - loss: 0.3421 - accuracy: 0.8443\n",
            "Epoch 87/100\n",
            "7/7 [==============================] - 0s 2ms/step - loss: 0.3412 - accuracy: 0.8396\n",
            "Epoch 88/100\n",
            "7/7 [==============================] - 0s 3ms/step - loss: 0.3400 - accuracy: 0.8396\n",
            "Epoch 89/100\n",
            "7/7 [==============================] - 0s 2ms/step - loss: 0.3391 - accuracy: 0.8491\n",
            "Epoch 90/100\n",
            "7/7 [==============================] - 0s 2ms/step - loss: 0.3377 - accuracy: 0.8491\n",
            "Epoch 91/100\n",
            "7/7 [==============================] - 0s 3ms/step - loss: 0.3371 - accuracy: 0.8538\n",
            "Epoch 92/100\n",
            "7/7 [==============================] - 0s 2ms/step - loss: 0.3358 - accuracy: 0.8538\n",
            "Epoch 93/100\n",
            "7/7 [==============================] - 0s 2ms/step - loss: 0.3346 - accuracy: 0.8538\n",
            "Epoch 94/100\n",
            "7/7 [==============================] - 0s 2ms/step - loss: 0.3339 - accuracy: 0.8443\n",
            "Epoch 95/100\n",
            "7/7 [==============================] - 0s 2ms/step - loss: 0.3320 - accuracy: 0.8443\n",
            "Epoch 96/100\n",
            "7/7 [==============================] - 0s 2ms/step - loss: 0.3309 - accuracy: 0.8443\n",
            "Epoch 97/100\n",
            "7/7 [==============================] - 0s 2ms/step - loss: 0.3302 - accuracy: 0.8443\n",
            "Epoch 98/100\n",
            "7/7 [==============================] - 0s 3ms/step - loss: 0.3286 - accuracy: 0.8443\n",
            "Epoch 99/100\n",
            "7/7 [==============================] - 0s 2ms/step - loss: 0.3275 - accuracy: 0.8443\n",
            "Epoch 100/100\n",
            "7/7 [==============================] - 0s 2ms/step - loss: 0.3267 - accuracy: 0.8491\n"
          ],
          "name": "stdout"
        },
        {
          "output_type": "execute_result",
          "data": {
            "text/plain": [
              "<tensorflow.python.keras.callbacks.History at 0x7f0268708ef0>"
            ]
          },
          "metadata": {
            "tags": []
          },
          "execution_count": 12
        }
      ]
    },
    {
      "cell_type": "code",
      "metadata": {
        "id": "_QWEi3Q4-Qp9",
        "outputId": "c8928e33-afe9-486c-9aa2-e0ceeb95a274",
        "colab": {
          "base_uri": "https://localhost:8080/"
        }
      },
      "source": [
        "model.summary()\n",
        "score = model.evaluate(X_test, y_test, verbose=0)\n",
        "print('Model Accuracy = ',score[1])"
      ],
      "execution_count": 13,
      "outputs": [
        {
          "output_type": "stream",
          "text": [
            "Model: \"sequential\"\n",
            "_________________________________________________________________\n",
            "Layer (type)                 Output Shape              Param #   \n",
            "=================================================================\n",
            "dense (Dense)                (None, 30)                270       \n",
            "_________________________________________________________________\n",
            "dense_1 (Dense)              (None, 20)                620       \n",
            "_________________________________________________________________\n",
            "dense_2 (Dense)              (None, 1)                 21        \n",
            "=================================================================\n",
            "Total params: 911\n",
            "Trainable params: 911\n",
            "Non-trainable params: 0\n",
            "_________________________________________________________________\n",
            "Model Accuracy =  0.8791208863258362\n"
          ],
          "name": "stdout"
        }
      ]
    },
    {
      "cell_type": "code",
      "metadata": {
        "id": "UrjE7jEQ-Q_9"
      },
      "source": [
        "model.save('heart_disease_model.h5')"
      ],
      "execution_count": 14,
      "outputs": []
    },
    {
      "cell_type": "code",
      "metadata": {
        "id": "Or3JRfrSBmPO"
      },
      "source": [
        "import tensorflow as tf"
      ],
      "execution_count": 15,
      "outputs": []
    },
    {
      "cell_type": "code",
      "metadata": {
        "id": "I73x49An-RtP"
      },
      "source": [
        "model = tf.keras.models.load_model('heart_disease_model.h5') "
      ],
      "execution_count": 16,
      "outputs": []
    },
    {
      "cell_type": "code",
      "metadata": {
        "id": "bJGP-N9gBs1o",
        "outputId": "60058e5f-1e02-49fd-d91b-2866c5834d1a",
        "colab": {
          "base_uri": "https://localhost:8080/"
        }
      },
      "source": [
        "model.predict(X_test)"
      ],
      "execution_count": 17,
      "outputs": [
        {
          "output_type": "execute_result",
          "data": {
            "text/plain": [
              "array([[0.977447  ],\n",
              "       [0.00924471],\n",
              "       [0.0042299 ],\n",
              "       [0.3123433 ],\n",
              "       [0.8386358 ],\n",
              "       [0.02793789],\n",
              "       [0.90033937],\n",
              "       [0.01333135],\n",
              "       [0.98669875],\n",
              "       [0.78356516],\n",
              "       [0.91203547],\n",
              "       [0.0904783 ],\n",
              "       [0.6148104 ],\n",
              "       [0.9920356 ],\n",
              "       [0.08028081],\n",
              "       [0.38179272],\n",
              "       [0.46713966],\n",
              "       [0.695127  ],\n",
              "       [0.92641246],\n",
              "       [0.3165264 ],\n",
              "       [0.01216894],\n",
              "       [0.01857454],\n",
              "       [0.9674059 ],\n",
              "       [0.08590487],\n",
              "       [0.338471  ],\n",
              "       [0.8837929 ],\n",
              "       [0.6681385 ],\n",
              "       [0.99266326],\n",
              "       [0.9472616 ],\n",
              "       [0.1749618 ],\n",
              "       [0.9540041 ],\n",
              "       [0.7289716 ],\n",
              "       [0.2474576 ],\n",
              "       [0.6308943 ],\n",
              "       [0.02697635],\n",
              "       [0.02128822],\n",
              "       [0.96131235],\n",
              "       [0.7881597 ],\n",
              "       [0.02708468],\n",
              "       [0.5874901 ],\n",
              "       [0.94122267],\n",
              "       [0.07649836],\n",
              "       [0.7945037 ],\n",
              "       [0.00469837],\n",
              "       [0.02134779],\n",
              "       [0.09991756],\n",
              "       [0.00860962],\n",
              "       [0.08679575],\n",
              "       [0.01648185],\n",
              "       [0.1049768 ],\n",
              "       [0.04147294],\n",
              "       [0.39780954],\n",
              "       [0.83058584],\n",
              "       [0.9459756 ],\n",
              "       [0.99393284],\n",
              "       [0.42103857],\n",
              "       [0.6048116 ],\n",
              "       [0.7880877 ],\n",
              "       [0.71718156],\n",
              "       [0.84144545],\n",
              "       [0.40469015],\n",
              "       [0.21639833],\n",
              "       [0.38653362],\n",
              "       [0.5729821 ],\n",
              "       [0.7962549 ],\n",
              "       [0.9736142 ],\n",
              "       [0.00355098],\n",
              "       [0.9948982 ],\n",
              "       [0.87707186],\n",
              "       [0.04232645],\n",
              "       [0.10314712],\n",
              "       [0.4046091 ],\n",
              "       [0.9868629 ],\n",
              "       [0.01501107],\n",
              "       [0.00875378],\n",
              "       [0.828289  ],\n",
              "       [0.12799194],\n",
              "       [0.93524146],\n",
              "       [0.8667855 ],\n",
              "       [0.99286646],\n",
              "       [0.98630047],\n",
              "       [0.8872122 ],\n",
              "       [0.99362355],\n",
              "       [0.34467044],\n",
              "       [0.33288646],\n",
              "       [0.568533  ],\n",
              "       [0.00972444],\n",
              "       [0.05228895],\n",
              "       [0.9948528 ],\n",
              "       [0.01968485],\n",
              "       [0.22915828]], dtype=float32)"
            ]
          },
          "metadata": {
            "tags": []
          },
          "execution_count": 17
        }
      ]
    },
    {
      "cell_type": "code",
      "metadata": {
        "id": "psopOA3NFsCs",
        "outputId": "69c1b261-6c23-46fe-ae90-ee59e85b18e2",
        "colab": {
          "base_uri": "https://localhost:8080/"
        }
      },
      "source": [
        "prediction=model.predict(X_test)\n",
        "# accuracy_dt=accuracy_score(y_test,prediction)*100\n",
        "# print(accuracy_dt)\n",
        "accuracy_score(y_test, prediction.round(), normalize=False)"
      ],
      "execution_count": 18,
      "outputs": [
        {
          "output_type": "execute_result",
          "data": {
            "text/plain": [
              "80"
            ]
          },
          "metadata": {
            "tags": []
          },
          "execution_count": 18
        }
      ]
    },
    {
      "cell_type": "code",
      "metadata": {
        "id": "nUpWisqSBtOX",
        "outputId": "de4635f8-a055-41ee-f70d-657c17b0b059",
        "colab": {
          "base_uri": "https://localhost:8080/"
        }
      },
      "source": [
        "import os\n",
        "import tensorflow as tf\n",
        "from tensorflow import keras\n",
        "print(tf.__version__)\n",
        "!pwd\n",
        "!ls"
      ],
      "execution_count": 19,
      "outputs": [
        {
          "output_type": "stream",
          "text": [
            "2.3.0\n",
            "/content\n",
            "heart.csv  heart_disease_model.h5  sample_data\n"
          ],
          "name": "stdout"
        }
      ]
    },
    {
      "cell_type": "code",
      "metadata": {
        "id": "0vn1iWMOBtli",
        "outputId": "df3cc395-fe72-4b0b-9895-2c1f370244cb",
        "colab": {
          "base_uri": "https://localhost:8080/"
        }
      },
      "source": [
        "My_TFlite_Model = tf.keras.models.load_model('heart_disease_model.h5')\n",
        "converter = tf.lite.TFLiteConverter.from_keras_model(My_TFlite_Model)\n",
        "tflite_model = converter.convert()\n",
        "open(\"heart_disease_model.tflite\", \"wb\").write(tflite_model)"
      ],
      "execution_count": 21,
      "outputs": [
        {
          "output_type": "stream",
          "text": [
            "INFO:tensorflow:Assets written to: /tmp/tmpfrq6sa_p/assets\n"
          ],
          "name": "stdout"
        },
        {
          "output_type": "stream",
          "text": [
            "INFO:tensorflow:Assets written to: /tmp/tmpfrq6sa_p/assets\n"
          ],
          "name": "stderr"
        },
        {
          "output_type": "execute_result",
          "data": {
            "text/plain": [
              "5496"
            ]
          },
          "metadata": {
            "tags": []
          },
          "execution_count": 21
        }
      ]
    },
    {
      "cell_type": "code",
      "metadata": {
        "id": "PQXAMt4IBt8p"
      },
      "source": [
        ""
      ],
      "execution_count": null,
      "outputs": []
    },
    {
      "cell_type": "code",
      "metadata": {
        "id": "WIGTxA7N3D1f"
      },
      "source": [
        ""
      ],
      "execution_count": null,
      "outputs": []
    },
    {
      "cell_type": "code",
      "metadata": {
        "id": "PYc253mJ3L8F"
      },
      "source": [
        ""
      ],
      "execution_count": null,
      "outputs": []
    },
    {
      "cell_type": "code",
      "metadata": {
        "id": "Dd1nVJGu3PP9"
      },
      "source": [
        ""
      ],
      "execution_count": null,
      "outputs": []
    },
    {
      "cell_type": "code",
      "metadata": {
        "id": "pqQocPRj3X51"
      },
      "source": [
        ""
      ],
      "execution_count": null,
      "outputs": []
    }
  ]
}